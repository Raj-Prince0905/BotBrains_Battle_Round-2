{
  "nbformat": 4,
  "nbformat_minor": 0,
  "metadata": {
    "colab": {
      "provenance": []
    },
    "kernelspec": {
      "name": "python3",
      "display_name": "Python 3"
    },
    "language_info": {
      "name": "python"
    }
  },
  "cells": [
    {
      "cell_type": "markdown",
      "source": [
        "## **Solution d**"
      ],
      "metadata": {
        "id": "6figN67DZ_cY"
      }
    },
    {
      "cell_type": "markdown",
      "source": [
        "**This code includes basic balance control using a PID controller, obstacle avoidance, and navigation to a specified location.**"
      ],
      "metadata": {
        "id": "O6pzo70iZyb9"
      }
    },
    {
      "cell_type": "code",
      "source": [
        "# Import necessary libraries and modules\n",
        "import time\n",
        "from random import randint\n",
        "\n",
        "# Define functions for robot control and navigation\n",
        "\n",
        "def calculate_PID_error(current_angle, target_angle):\n",
        "    # Calculate error for PID control\n",
        "    return target_angle - current_angle\n",
        "\n",
        "def PID_controller(error):\n",
        "    # PID controller to adjust motor speed based on error\n",
        "    Kp = 1.0  # Proportional gain\n",
        "    Ki = 0.0  # Integral gain\n",
        "    Kd = 0.0  # Derivative gain\n",
        "\n",
        "    # Sample PID implementation (simplified)\n",
        "    proportional = Kp * error\n",
        "    integral = Ki * error\n",
        "    derivative = Kd * error\n",
        "\n",
        "    # Compute PID value (adjust motor speed)\n",
        "    pid_value = proportional + integral + derivative\n",
        "    return pid_value\n",
        "\n",
        "def move_forward(speed):\n",
        "    # Move forward function\n",
        "    print(f\"Moving forward at speed {speed} cm/s\")\n",
        "    time.sleep(1)  # Simulate movement time\n",
        "\n",
        "def turn(angle):\n",
        "    # Turn function\n",
        "    print(f\"Turning {angle} degrees\")\n",
        "    time.sleep(0.5)  # Simulate turning time\n",
        "\n",
        "def avoid_obstacle():\n",
        "    # Function to avoid obstacle (example implementation)\n",
        "    obstacle_detected = randint(0, 1)  # Simulate obstacle detection\n",
        "    if obstacle_detected:\n",
        "        print(\"Obstacle detected! Taking evasive action...\")\n",
        "        turn(90)  # Turn 90 degrees to avoid obstacle\n",
        "\n",
        "# Main program loop for parcel delivery task\n",
        "\n",
        "def deliver_parcel():\n",
        "    # Assume initial setup and balancing are handled by hardware\n",
        "\n",
        "    # Start moving towards destination\n",
        "    move_forward(10)  # Move forward at 10 cm/s\n",
        "\n",
        "    # Example path to destination\n",
        "    for _ in range(4):  # Assume 4 straight segments\n",
        "        avoid_obstacle()  # Check for obstacles\n",
        "\n",
        "        # PID control to maintain balance and direction\n",
        "        current_angle = randint(-10, 10)  # Simulate current angle\n",
        "        target_angle = 0  # Straight path assumed\n",
        "        error = calculate_PID_error(current_angle, target_angle)\n",
        "        pid_value = PID_controller(error)\n",
        "\n",
        "        # Adjust movement based on PID output\n",
        "        turn(pid_value)  # Adjust direction based on PID output\n",
        "        move_forward(10)  # Move forward at 10 cm/s\n",
        "\n",
        "    # Arrival at destination\n",
        "    print(\"Parcel delivered!\")\n",
        "\n",
        "# Execute the parcel delivery task\n",
        "deliver_parcel()\n"
      ],
      "metadata": {
        "colab": {
          "base_uri": "https://localhost:8080/"
        },
        "id": "rdXNs4YBeKmD",
        "outputId": "d0e0186c-f6d2-4d9b-f0f0-eadf9b2e37ec"
      },
      "execution_count": 11,
      "outputs": [
        {
          "output_type": "stream",
          "name": "stdout",
          "text": [
            "Moving forward at speed 10 cm/s\n",
            "Obstacle detected! Taking evasive action...\n",
            "Turning 90 degrees\n",
            "Turning -2.0 degrees\n",
            "Moving forward at speed 10 cm/s\n",
            "Obstacle detected! Taking evasive action...\n",
            "Turning 90 degrees\n",
            "Turning -9.0 degrees\n",
            "Moving forward at speed 10 cm/s\n",
            "Turning 10.0 degrees\n",
            "Moving forward at speed 10 cm/s\n",
            "Turning -1.0 degrees\n",
            "Moving forward at speed 10 cm/s\n",
            "Parcel delivered!\n"
          ]
        }
      ]
    },
    {
      "cell_type": "markdown",
      "source": [
        "## **Explanation:**\n",
        "\n",
        "1. **Imports and Functions:** Import necessary libraries and define functions for controlling robot movement (move_forward, turn) and implementing a simple PID controller (calculate_PID_error, PID_controller).\n",
        "\n",
        "2. **Main Program (deliver_parcel):**\n",
        "\n",
        "\n",
        "\n",
        "*   Initialization: Assume initial setup and balancing are handled by hardware.\n",
        "*   Movement Loop: Simulate movement towards the destination, checking for obstacles (avoid_obstacle) and using a simplified PID controller to maintain balance and adjust direction.\n",
        "*   Delivery: Once the robot reaches the destination (simulated by reaching the end of the movement loop), indicate successful parcel delivery."
      ],
      "metadata": {
        "id": "fp2dQZB6fBWo"
      }
    },
    {
      "cell_type": "markdown",
      "source": [
        "**This code snippet provides a basic framework for programming a TWSBR for parcel delivery, demonstrating how you might approach the task using Python.**\n"
      ],
      "metadata": {
        "id": "9UjlIdt5gCnu"
      }
    }
  ]
}